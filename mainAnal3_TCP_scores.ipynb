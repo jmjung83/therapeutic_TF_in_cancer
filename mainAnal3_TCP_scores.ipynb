{
 "cells": [
  {
   "cell_type": "code",
   "execution_count": 10,
   "metadata": {},
   "outputs": [
    {
     "name": "stdout",
     "output_type": "stream",
     "text": [
      "Once deleted, variables cannot be recovered. Proceed (y/[n])? y\n"
     ]
    }
   ],
   "source": [
    "%reset"
   ]
  },
  {
   "cell_type": "code",
   "execution_count": 1,
   "metadata": {},
   "outputs": [
    {
     "data": {
      "text/html": [
       "<style>.container { width:95% !important; }</style>"
      ],
      "text/plain": [
       "<IPython.core.display.HTML object>"
      ]
     },
     "metadata": {},
     "output_type": "display_data"
    },
    {
     "data": {
      "text/html": [
       "<style>.input_area pre {font-family: Consolas; font-size: 16pt; line-height: 140%;}</style>"
      ],
      "text/plain": [
       "<IPython.core.display.HTML object>"
      ]
     },
     "metadata": {},
     "output_type": "display_data"
    },
    {
     "data": {
      "text/html": [
       "<style>.output_area pre {font-family: Consolas; font-size: 16pt; line-height: 140%;}</style>"
      ],
      "text/plain": [
       "<IPython.core.display.HTML object>"
      ]
     },
     "metadata": {},
     "output_type": "display_data"
    }
   ],
   "source": [
    "from IPython.core.display import display, HTML\n",
    "display(HTML(\"<style>.container { width:95% !important; }</style>\"))\n",
    "display(HTML(\"<style>.input_area pre {font-family: Consolas; font-size: 16pt; line-height: 140%;}</style>\"))\n",
    "display(HTML(\"<style>.output_area pre {font-family: Consolas; font-size: 16pt; line-height: 140%;}</style>\"))\n",
    "\n",
    "# from IPython.core.interactiveshell import InteractiveShell\n",
    "# InteractiveShell.ast_node_interactivity = \"all\"\n",
    "\n",
    "import pandas as pd\n",
    "import numpy as np\n",
    "import os\n",
    "import glob\n",
    "import datetime\n",
    "import shutil\n",
    "from collections import defaultdict, Counter\n",
    "from copy import deepcopy\n",
    "import networkx as nx\n",
    "import matplotlib.pyplot as plt\n",
    "from matplotlib import font_manager, rc\n",
    "font_name = font_manager.FontProperties(fname=\"c:/Windows/Fonts/malgun.ttf\").get_name()\n",
    "plt.rc('font', family=font_name)\n",
    "plt.rcParams['axes.unicode_minus'] = False\n",
    "\n",
    "import matplotlib.patches as mpatches\n",
    "import math\n",
    "\n",
    "import matplotlib as mpl\n",
    "mpl.rcParams['figure.dpi'] = 300\n",
    "\n",
    "import statsmodels.stats.multitest as multest\n",
    "import seaborn as sns\n",
    "import scipy.stats as st"
   ]
  },
  {
   "cell_type": "markdown",
   "metadata": {},
   "source": [
    "# calculate and save corr_mat"
   ]
  },
  {
   "cell_type": "code",
   "execution_count": 4,
   "metadata": {
    "scrolled": false
   },
   "outputs": [
    {
     "name": "stdout",
     "output_type": "stream",
     "text": [
      "##### A375\n",
      "##### HT29\n"
     ]
    }
   ],
   "source": [
    "def get_z(r):\n",
    "    if r==1:\n",
    "        r=0.9999\n",
    "    if r==-1:\n",
    "        r=-0.9999\n",
    "    return (math.log(1+r)-math.log(1-r))*0.5\n",
    "\n",
    "def get_corr_unstack(df1,col_name):\n",
    "    cor_df=df1.corr('pearson')\n",
    "    cor_df=cor_df.unstack().to_frame()\n",
    "    cor_df.columns=[col_name]\n",
    "    cor_df.index.names=[None, None]\n",
    "    return cor_df\n",
    "    \n",
    "file_names=glob.glob('result/TF_activity/effect/*.txt')  \n",
    "\n",
    "mer_corr_integrated_df = pd.DataFrame()\n",
    "for file_name in file_names:\n",
    "    cell=file_name.split(\"\\\\\")[-1].split('_')[2]\n",
    "    print('#####',cell)\n",
    "    \n",
    "    anal_data=pd.read_table(file_name, sep='\\t',engine='python')\n",
    "    \n",
    "    dataE=anal_data.loc[anal_data['effect']==1, [col for col in anal_data.columns if col!='effect']]\n",
    "    dataNE=anal_data.loc[anal_data['effect']==0, [col for col in anal_data.columns if col!='effect']]\n",
    "    \n",
    "    corrE=get_corr_unstack(dataE, 'corrE')\n",
    "    corrNE=get_corr_unstack(dataNE, 'corrNE')\n",
    "    \n",
    "    mer_corr=pd.concat([corrE,corrNE], axis=1)\n",
    "    mer_corr=mer_corr.reset_index()\n",
    "    \n",
    "    mer_corr.columns=['g1','g2']+list(mer_corr.columns[2:])\n",
    "    \n",
    "    mer_corr['corr_diff']=mer_corr['corrE']-mer_corr['corrNE']\n",
    "\n",
    "    mer_corr['corrEZ']=mer_corr['corrE'].map(get_z)\n",
    "    mer_corr['corrNEZ']=mer_corr['corrNE'].map(get_z)\n",
    "    \n",
    "    mer_corr['Zobs(TCPS)']=mer_corr.apply(lambda row: (row['corrEZ']-row['corrNEZ'])/np.sqrt(1/(len(dataE)-3)+1/(len(dataNE)-3)), axis=1)\n",
    "    mer_corr['p_value']=mer_corr['Zobs(TCPS)'].map(lambda x: st.norm.sf(abs(x))*2)\n",
    "\n",
    "    mer_corr['FDR'] = multest.fdrcorrection(mer_corr['p_value'])[1]\n",
    "    mer_corr['negLog10_FDR'] = mer_corr['FDR'].map(lambda x: -np.log10(x))\n",
    "\n",
    "    ## save TTP score for each cell\n",
    "    mer_corr.to_csv('result/TCPscore/TCPS_{}.txt'.format(cell),sep='\\t')\n",
    "\n",
    "    ## integration two cells\n",
    "    mer_corr.set_index(['g1','g2'], inplace=True)\n",
    "    \n",
    "    for col in ['corrE','corrNE','corr_diff','corrEZ','corrNEZ','Zobs(TCPS)','negLog10_FDR']:\n",
    "        mer_corr[col] = mer_corr[col].map(lambda x: '{:.3f}'.format(x))\n",
    "        \n",
    "    for col in ['p_value','FDR']:\n",
    "        mer_corr[col] = mer_corr[col].map(lambda x: '{:.3e}'.format(x))\n",
    "    \n",
    "    mer_corr.rename(columns={'FDR':'FDR_{}'.format(cell)}, inplace=True)\n",
    "\n",
    "    mer_corr_integrated_df=pd.concat([mer_corr_integrated_df, mer_corr], axis=1, sort=True)\n",
    "\n",
    "mer_corr_integrated_df.reset_index(inplace=True)\n",
    "mer_corr_integrated_df.to_csv('result/TCPscore/TCPS_both.txt',sep='\\t')"
   ]
  },
  {
   "cell_type": "markdown",
   "metadata": {},
   "source": [
    "# remove duplicates of TCP scores"
   ]
  },
  {
   "cell_type": "code",
   "execution_count": 6,
   "metadata": {
    "scrolled": false
   },
   "outputs": [
    {
     "name": "stdout",
     "output_type": "stream",
     "text": [
      "10000\n",
      "20000\n",
      "30000\n",
      "40000\n",
      "50000\n",
      "60000\n",
      "70000\n",
      "80000\n",
      "90000\n",
      "100000\n",
      "110000\n",
      "120000\n",
      "130000\n",
      "140000\n",
      "150000\n",
      "160000\n",
      "170000\n",
      "180000\n",
      "190000\n",
      "200000\n",
      "210000\n",
      "220000\n",
      "230000\n",
      "240000\n",
      "250000\n",
      "260000\n",
      "270000\n",
      "280000\n",
      "290000\n",
      "300000\n",
      "310000\n",
      "320000\n",
      "330000\n",
      "340000\n",
      "350000\n",
      "360000\n",
      "370000\n",
      "380000\n",
      "390000\n"
     ]
    }
   ],
   "source": [
    "dupDel=open('result/TCPscore/TCPS_both_dupDel.txt','w+')\n",
    "\n",
    "tfPair=set()\n",
    "\n",
    "line_cnt=0\n",
    "for line in open('result/TCPscore/TCPS_both.txt','r'):\n",
    "    line_cnt+=1\n",
    "    if line_cnt==1:\n",
    "        _=dupDel.write(line)\n",
    "        continue\n",
    "        \n",
    "    tf1,tf2=line.split('\\t')[1:3]\n",
    "    \n",
    "    if tf1==tf2:\n",
    "        continue\n",
    "        \n",
    "    if (tf1,tf2) not in tfPair:\n",
    "        _=dupDel.write(line)\n",
    "        tfPair.add((tf2,tf1))\n",
    "    else:\n",
    "        tfPair.remove((tf1,tf2))\n",
    "    \n",
    "    if line_cnt%10000==0:\n",
    "        print(line_cnt)"
   ]
  }
 ],
 "metadata": {
  "kernelspec": {
   "display_name": "Python 3",
   "language": "python",
   "name": "python3"
  },
  "language_info": {
   "codemirror_mode": {
    "name": "ipython",
    "version": 3
   },
   "file_extension": ".py",
   "mimetype": "text/x-python",
   "name": "python",
   "nbconvert_exporter": "python",
   "pygments_lexer": "ipython3",
   "version": "3.7.4"
  }
 },
 "nbformat": 4,
 "nbformat_minor": 2
}
