{
 "cells": [
  {
   "cell_type": "code",
   "execution_count": 1,
   "metadata": {},
   "outputs": [
    {
     "data": {
      "text/html": [
       "<style>.container { width:95% !important; }</style>"
      ],
      "text/plain": [
       "<IPython.core.display.HTML object>"
      ]
     },
     "metadata": {},
     "output_type": "display_data"
    },
    {
     "data": {
      "text/html": [
       "<style>.input_area pre {font-family: Consolas; font-size: 16pt; line-height: 140%;}</style>"
      ],
      "text/plain": [
       "<IPython.core.display.HTML object>"
      ]
     },
     "metadata": {},
     "output_type": "display_data"
    },
    {
     "data": {
      "text/html": [
       "<style>.output_area pre {font-family: Consolas; font-size: 16pt; line-height: 140%;}</style>"
      ],
      "text/plain": [
       "<IPython.core.display.HTML object>"
      ]
     },
     "metadata": {},
     "output_type": "display_data"
    }
   ],
   "source": [
    "from IPython.core.display import display, HTML\n",
    "display(HTML(\"<style>.container { width:95% !important; }</style>\"))\n",
    "display(HTML(\"<style>.input_area pre {font-family: Consolas; font-size: 16pt; line-height: 140%;}</style>\"))\n",
    "display(HTML(\"<style>.output_area pre {font-family: Consolas; font-size: 16pt; line-height: 140%;}</style>\"))\n",
    "\n",
    "from IPython.core.interactiveshell import InteractiveShell\n",
    "InteractiveShell.ast_node_interactivity = \"all\"\n",
    "\n",
    "import pandas as pd\n",
    "import numpy as np\n",
    "import os\n",
    "import glob\n",
    "import datetime\n",
    "import shutil\n",
    "from collections import defaultdict, Counter\n",
    "from copy import deepcopy\n",
    "import networkx as nx\n",
    "import matplotlib.pyplot as plt\n",
    "from matplotlib import font_manager, rc\n",
    "font_name = font_manager.FontProperties(fname=\"c:/Windows/Fonts/malgun.ttf\").get_name()\n",
    "plt.rc('font', family=font_name)"
   ]
  },
  {
   "cell_type": "code",
   "execution_count": 2,
   "metadata": {
    "scrolled": false
   },
   "outputs": [
    {
     "name": "stdout",
     "output_type": "stream",
     "text": [
      "######### PASS ####### A375\n",
      "######### PASS ####### HT29\n"
     ]
    }
   ],
   "source": [
    "def add_ic50_and_col_norm(file_name):\n",
    "    cell = file_name.split('_')[-2]\n",
    "    \n",
    "    ic50_df=pd.read_table('./result/GDSC_IC50s_for_common_drugs.txt', index_col=0, sep='\\t',engine='python')\n",
    "    ic50_ds=ic50_df[cell]\n",
    "    ic50_ds=ic50_ds[~ic50_ds.isna()]\n",
    "    ic50_dic=ic50_ds.to_dict()\n",
    "\n",
    "    \n",
    "    TF_activity_df=pd.read_table(file_name, sep='\\t',engine='python')\n",
    "    #print(TF_activity_df.head())\n",
    "    \n",
    "    # get effect info\n",
    "    TF_activity_df['compound']=TF_activity_df['compound'].map(ic50_dic)\n",
    "    TF_activity_df=TF_activity_df[~TF_activity_df['compound'].isna()]\n",
    "    TF_activity_df.rename(columns={'compound':'ic50'},inplace=True)\n",
    "    \n",
    "    ic50_ds=TF_activity_df['ic50']\n",
    "    dose_ds=TF_activity_df['dose']\n",
    "    diff_ds=dose_ds-ic50_ds\n",
    "    TF_activity_df['effect']=np.where(diff_ds>=0, 1, 0)\n",
    "    TF_activity_df.drop(['ic50','dose'],axis=1,inplace=True)\n",
    "    \n",
    "    tot=len(TF_activity_df['effect'])\n",
    "    eff=np.sum(TF_activity_df['effect']==1)\n",
    "    if (tot<400) or ((eff/tot)<=0.15):\n",
    "        return None\n",
    "    \n",
    "    print('######### PASS #######', cell)\n",
    "\n",
    "    ## 각 TF_activity row normalize 수행하기\n",
    "    for ind in TF_activity_df.index:\n",
    "        values=TF_activity_df.loc[ind].iloc[:-1]\n",
    "        \n",
    "        x_min=values.min()\n",
    "        x_max=values.max()\n",
    "        \n",
    "        norm1_ds=(values-x_min)/(x_max-x_min+1e-7)\n",
    "        norm2_ds=(norm1_ds-norm1_ds.mean())/norm1_ds.std()\n",
    "        norm2_ds.loc['effect']=TF_activity_df.loc[ind,'effect']\n",
    "        \n",
    "        TF_activity_df.loc[ind]=norm2_ds\n",
    "        \n",
    "    out_file_name=file_name.replace(\"comp_dose\", \"effect\").replace(\"CompDose\",'Effect')\n",
    "    TF_activity_df.to_csv(out_file_name,sep='\\t',index=False)\n",
    "        \n",
    "file_names=glob.glob('result/TF_activity/comp_dose/*.txt')\n",
    "for file_name in file_names:\n",
    "    add_ic50_and_col_norm(file_name)"
   ]
  },
  {
   "cell_type": "code",
   "execution_count": null,
   "metadata": {},
   "outputs": [],
   "source": []
  },
  {
   "cell_type": "code",
   "execution_count": null,
   "metadata": {},
   "outputs": [],
   "source": []
  }
 ],
 "metadata": {
  "kernelspec": {
   "display_name": "Python 3",
   "language": "python",
   "name": "python3"
  },
  "language_info": {
   "codemirror_mode": {
    "name": "ipython",
    "version": 3
   },
   "file_extension": ".py",
   "mimetype": "text/x-python",
   "name": "python",
   "nbconvert_exporter": "python",
   "pygments_lexer": "ipython3",
   "version": "3.7.4"
  }
 },
 "nbformat": 4,
 "nbformat_minor": 2
}
