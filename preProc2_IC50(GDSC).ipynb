{
 "cells": [
  {
   "cell_type": "code",
   "execution_count": 2,
   "metadata": {},
   "outputs": [
    {
     "data": {
      "text/html": [
       "<style>.container { width:95% !important; }</style>"
      ],
      "text/plain": [
       "<IPython.core.display.HTML object>"
      ]
     },
     "metadata": {},
     "output_type": "display_data"
    },
    {
     "data": {
      "text/html": [
       "<style>.input_area pre {font-family: Consolas; font-size: 14pt; line-height: 140%;}</style>"
      ],
      "text/plain": [
       "<IPython.core.display.HTML object>"
      ]
     },
     "metadata": {},
     "output_type": "display_data"
    },
    {
     "data": {
      "text/html": [
       "<style>.output_area pre {font-family: Consolas; font-size: 14pt; line-height: 140%;}</style>"
      ],
      "text/plain": [
       "<IPython.core.display.HTML object>"
      ]
     },
     "metadata": {},
     "output_type": "display_data"
    }
   ],
   "source": [
    "from IPython.core.display import display, HTML\n",
    "display(HTML(\"<style>.container { width:95% !important; }</style>\"))\n",
    "display(HTML(\"<style>.input_area pre {font-family: Consolas; font-size: 14pt; line-height: 140%;}</style>\"))\n",
    "display(HTML(\"<style>.output_area pre {font-family: Consolas; font-size: 14pt; line-height: 140%;}</style>\"))\n",
    "\n",
    "from IPython.core.interactiveshell import InteractiveShell\n",
    "InteractiveShell.ast_node_interactivity = \"all\"\n",
    "\n",
    "import pandas as pd\n",
    "import numpy as np\n",
    "import os\n",
    "import glob\n",
    "import datetime\n",
    "import shutil\n",
    "from collections import defaultdict, Counter\n",
    "from copy import deepcopy\n",
    "import networkx as nx\n",
    "import matplotlib.pyplot as plt\n",
    "from matplotlib import font_manager, rc\n",
    "font_name = font_manager.FontProperties(fname=\"c:/Windows/Fonts/malgun.ttf\").get_name()\n",
    "plt.rc('font', family=font_name)"
   ]
  },
  {
   "cell_type": "markdown",
   "metadata": {},
   "source": [
    "# compounds in LINCS"
   ]
  },
  {
   "cell_type": "code",
   "execution_count": 3,
   "metadata": {
    "scrolled": false
   },
   "outputs": [
    {
     "name": "stdout",
     "output_type": "stream",
     "text": [
      "A375 264 264 [5374464, 16048642, 2051, 9826308, 9952773]\n",
      "A549 264 264 [5374464, 16048642, 2051, 9826308, 9952773]\n",
      "BT20 107 107 [5374464, 16048642, 46843906, 9826308, 73707530]\n",
      "HS578T 107 107 [5374464, 16048642, 46843906, 9826308, 73707530]\n",
      "HT29 264 264 [5374464, 16048642, 2051, 9826308, 9952773]\n",
      "JURKAT 60 60 [5374464, 2051, 24788740, 9868037, 156422]\n",
      "LNCAP 58 58 [5374464, 46843906, 52914946, 9826308, 25226117]\n",
      "MCF7 264 264 [5374464, 16048642, 2051, 9826308, 9952773]\n",
      "MDAMB231 107 107 [5374464, 16048642, 46843906, 9826308, 73707530]\n",
      "PC3 264 264 [5374464, 16048642, 2051, 9826308, 9952773]\n"
     ]
    }
   ],
   "source": [
    "LINCS2GDSC_cell={'A375':'A375',\n",
    "                'A549':'A549',\n",
    "                'BT20':'BT-20',\n",
    "                'HELA.311':'HeLa',\n",
    "                'HS578T':'Hs-578-T',\n",
    "                'HT29':'HT-29',\n",
    "                'JURKAT':'Jurkat',\n",
    "                'LNCAP':'LNCaP-Clone-FGC',\n",
    "                'MCF7':'MCF7',\n",
    "                'MDAMB231':'MDA-MB-231',\n",
    "                'PC3':'PC-3',\n",
    "                'YAPC.311':'YAPC'}\n",
    "\n",
    "GDSC2LINCS_cell={}\n",
    "for key,val in LINCS2GDSC_cell.items():\n",
    "    GDSC2LINCS_cell[val]=key\n",
    "    \n",
    "    \n",
    "## get compound(pubchem cid) list of the selected cells (MCF7, A549, LNCAP, BT20, MDAMB231, A375, PC3) in LINCS database\n",
    "def getCellCompDic_LINCS():\n",
    "    cellComp_dic = {}\n",
    "    in_file = open('data/LINCS/LINCS_cpdInfo.txt')\n",
    "     \n",
    "    for line in in_file:\n",
    "        cell, comp = line.replace('\\n','').replace('\\r','').split('\\t')\n",
    "        cellComp_dic[cell] = comp.split('|')\n",
    "         \n",
    "    in_file.close()\n",
    "    return cellComp_dic\n",
    "\n",
    "def getLnsPCDic():\n",
    "    # lsm to pc\n",
    "    in_file = open('data/LINCS/LSM2Cid.txt')\n",
    "    \n",
    "    lsm2pc = {}\n",
    "    pc2lsm = {}\n",
    "    header = True\n",
    "    for line in in_file:\n",
    "        if header: header=False; continue\n",
    "        \n",
    "        if len(line.replace('\\n','').split('\\t')) != 6: continue\n",
    "        \n",
    "        (lsm, pc, smiles, inchi, inchikey, mass) = line.replace('\\n','').split('\\t')\n",
    "        if (pc==''): continue\n",
    "        \n",
    "        lsm = lsm.strip(); pc = pc.strip()\n",
    "        lsm2pc[lsm] = pc\n",
    "        pc2lsm[pc]=lsm\n",
    "    \n",
    "    in_file.close()\n",
    "    \n",
    "    # brd to pc\n",
    "    in_file = open('data/LINCS/BRD2LSM.txt')\n",
    "    \n",
    "    brd2pc = {}\n",
    "    lsm2brd = {}\n",
    "    header = True\n",
    "    for line in in_file:\n",
    "        if header: header=False; continue\n",
    "        (lsm, brd) = line.replace('\\n','').split('\\t')\n",
    "        lsm = lsm.strip()\n",
    "        brd = brd.strip()\n",
    "        if not brd.startswith('BRD'): continue\n",
    "        \n",
    "        lsm2brd[lsm] = brd\n",
    "        if lsm in lsm2pc.keys():\n",
    "            brd2pc[brd] = lsm2pc[lsm]\n",
    "    \n",
    "    in_file.close()\n",
    "    \n",
    "    pc2brd = {}\n",
    "    for pc, lsm in pc2lsm.items():\n",
    "        if lsm in lsm2brd.keys():\n",
    "            pc2brd[pc] = lsm2brd[lsm]\n",
    "            \n",
    "    return brd2pc, pc2brd\n",
    "\n",
    "# get pubchem id of LINCS compound\n",
    "lnsCellComp_dic = getCellCompDic_LINCS()\n",
    "brd2pc, pc2brd  = getLnsPCDic()\n",
    "\n",
    "LINCS_24h_comp_list={}\n",
    "for cellHr, comp_list in lnsCellComp_dic.items():\n",
    "    cell, hr = cellHr.split(\"|\")\n",
    "    if (cell not in LINCS2GDSC_cell.keys()) or (hr!='24'):\n",
    "        continue\n",
    "        \n",
    "    comp_set = set()\n",
    "    for comp in comp_list:\n",
    "        if comp in brd2pc.keys():\n",
    "            comp_set.add(int(brd2pc[comp]))\n",
    "    LINCS_24h_comp_list[cell] = list(comp_set)\n",
    "\n",
    "for key,val in LINCS_24h_comp_list.items():\n",
    "    print(key, len(val), len(set(val)), val[:5])"
   ]
  },
  {
   "cell_type": "markdown",
   "metadata": {},
   "source": [
    "# IC50 of common_compounds_between_LINCS_and_GDSC"
   ]
  },
  {
   "cell_type": "code",
   "execution_count": 4,
   "metadata": {},
   "outputs": [
    {
     "data": {
      "text/html": [
       "<div>\n",
       "<style scoped>\n",
       "    .dataframe tbody tr th:only-of-type {\n",
       "        vertical-align: middle;\n",
       "    }\n",
       "\n",
       "    .dataframe tbody tr th {\n",
       "        vertical-align: top;\n",
       "    }\n",
       "\n",
       "    .dataframe thead th {\n",
       "        text-align: right;\n",
       "    }\n",
       "</style>\n",
       "<table border=\"1\" class=\"dataframe\">\n",
       "  <thead>\n",
       "    <tr style=\"text-align: right;\">\n",
       "      <th></th>\n",
       "      <th>CELL_LINE_NAME</th>\n",
       "      <th>DRUG_NAME</th>\n",
       "      <th>LN_IC50</th>\n",
       "    </tr>\n",
       "  </thead>\n",
       "  <tbody>\n",
       "    <tr>\n",
       "      <th>0</th>\n",
       "      <td>MC-CAR</td>\n",
       "      <td>Erlotinib</td>\n",
       "      <td>2.453524</td>\n",
       "    </tr>\n",
       "    <tr>\n",
       "      <th>1</th>\n",
       "      <td>ES3</td>\n",
       "      <td>Erlotinib</td>\n",
       "      <td>3.376592</td>\n",
       "    </tr>\n",
       "    <tr>\n",
       "      <th>2</th>\n",
       "      <td>ES5</td>\n",
       "      <td>Erlotinib</td>\n",
       "      <td>3.614664</td>\n",
       "    </tr>\n",
       "    <tr>\n",
       "      <th>3</th>\n",
       "      <td>ES7</td>\n",
       "      <td>Erlotinib</td>\n",
       "      <td>3.223394</td>\n",
       "    </tr>\n",
       "    <tr>\n",
       "      <th>4</th>\n",
       "      <td>EW-11</td>\n",
       "      <td>Erlotinib</td>\n",
       "      <td>2.486405</td>\n",
       "    </tr>\n",
       "  </tbody>\n",
       "</table>\n",
       "</div>"
      ],
      "text/plain": [
       "  CELL_LINE_NAME  DRUG_NAME   LN_IC50\n",
       "0         MC-CAR  Erlotinib  2.453524\n",
       "1            ES3  Erlotinib  3.376592\n",
       "2            ES5  Erlotinib  3.614664\n",
       "3            ES7  Erlotinib  3.223394\n",
       "4          EW-11  Erlotinib  2.486405"
      ]
     },
     "execution_count": 4,
     "metadata": {},
     "output_type": "execute_result"
    }
   ],
   "source": [
    "def is_common_compounds(GDSC_cid_list, LINCS_cid_list):\n",
    "    for GDSC in GDSC_cid_list:\n",
    "        for LINCS in LINCS_cid_list:\n",
    "            if GDSC==LINCS:\n",
    "                return True, GDSC\n",
    "    \n",
    "    return False, None\n",
    "\n",
    "GDSC2CID_df=pd.read_table(\"data/GDSC/1_GDSC_Pubchem_compound.txt\", sep='\\t', engine='python')\n",
    "GDSC2CID_list_ds=GDSC2CID_df.groupby('GDSC')['Pubchem'].apply(list)\n",
    "\n",
    "\n",
    "GDSC_IC50_df = pd.read_table('data/GDSC/3_GDSC_IC50.txt', sep='\\t')\n",
    "GDSC_IC50_df['DRUG_NAME']=GDSC_IC50_df['DRUG_NAME'].map(lambda x: x.strip())\n",
    "GDSC_IC50_df.head()\n",
    "all_ic50_dic={}\n",
    "for LINCS_cell in LINCS_24h_comp_list.keys():\n",
    "    GDSC_cell=LINCS2GDSC_cell[LINCS_cell]\n",
    "        \n",
    "    GDSC_IC50_sub_df=GDSC_IC50_df.loc[GDSC_IC50_df['CELL_LINE_NAME']==GDSC_cell]\n",
    "    \n",
    "    ic50_dic={}\n",
    "    for row in GDSC_IC50_sub_df.itertuples():\n",
    "        if row.DRUG_NAME not in list(GDSC2CID_list_ds.index):\n",
    "            continue\n",
    "        flg, cid = is_common_compounds(GDSC2CID_list_ds[row.DRUG_NAME], LINCS_24h_comp_list[LINCS_cell])\n",
    "        if flg:\n",
    "            ic50_dic[cid]=round(np.e**float(row.LN_IC50),4)\n",
    "    \n",
    "    all_ic50_dic[LINCS_cell]=ic50_dic\n",
    "\n",
    "all_ic50_df=pd.DataFrame(all_ic50_dic)\n",
    "all_ic50_df.to_csv(path_or_buf='result/GDSC_IC50s_for_common_drugs.txt', sep='\\t',index=True)"
   ]
  },
  {
   "cell_type": "code",
   "execution_count": null,
   "metadata": {},
   "outputs": [],
   "source": []
  }
 ],
 "metadata": {
  "kernelspec": {
   "display_name": "Python 3",
   "language": "python",
   "name": "python3"
  },
  "language_info": {
   "codemirror_mode": {
    "name": "ipython",
    "version": 3
   },
   "file_extension": ".py",
   "mimetype": "text/x-python",
   "name": "python",
   "nbconvert_exporter": "python",
   "pygments_lexer": "ipython3",
   "version": "3.7.4"
  }
 },
 "nbformat": 4,
 "nbformat_minor": 2
}
