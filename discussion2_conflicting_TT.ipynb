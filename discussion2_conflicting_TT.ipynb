{
 "cells": [
  {
   "cell_type": "code",
   "execution_count": 5,
   "metadata": {},
   "outputs": [
    {
     "name": "stdout",
     "output_type": "stream",
     "text": [
      "Once deleted, variables cannot be recovered. Proceed (y/[n])? y\n"
     ]
    }
   ],
   "source": [
    "%reset"
   ]
  },
  {
   "cell_type": "code",
   "execution_count": 1,
   "metadata": {},
   "outputs": [
    {
     "data": {
      "text/html": [
       "<style>.container { width:95% !important; }</style>"
      ],
      "text/plain": [
       "<IPython.core.display.HTML object>"
      ]
     },
     "metadata": {},
     "output_type": "display_data"
    },
    {
     "data": {
      "text/html": [
       "<style>.input_area pre {font-family: Consolas; font-size: 16pt; line-height: 140%;}</style>"
      ],
      "text/plain": [
       "<IPython.core.display.HTML object>"
      ]
     },
     "metadata": {},
     "output_type": "display_data"
    },
    {
     "data": {
      "text/html": [
       "<style>.output_area pre {font-family: Consolas; font-size: 16pt; line-height: 140%;}</style>"
      ],
      "text/plain": [
       "<IPython.core.display.HTML object>"
      ]
     },
     "metadata": {},
     "output_type": "display_data"
    }
   ],
   "source": [
    "from IPython.core.display import display, HTML\n",
    "display(HTML(\"<style>.container { width:95% !important; }</style>\"))\n",
    "display(HTML(\"<style>.input_area pre {font-family: Consolas; font-size: 16pt; line-height: 140%;}</style>\"))\n",
    "display(HTML(\"<style>.output_area pre {font-family: Consolas; font-size: 16pt; line-height: 140%;}</style>\"))\n",
    "\n",
    "from IPython.core.interactiveshell import InteractiveShell\n",
    "InteractiveShell.ast_node_interactivity = \"all\"\n",
    "\n",
    "import pandas as pd\n",
    "import numpy as np\n",
    "import matplotlib.pyplot as plt\n",
    "from matplotlib import font_manager, rc\n",
    "\n",
    "# font_name = font_manager.FontProperties(fname=\"c:/Windows/Fonts/malgun.ttf\").get_name()\n",
    "# plt.rc('font', family=font_name)\n",
    "# plt.rcParams['axes.unicode_minus'] = False"
   ]
  },
  {
   "cell_type": "code",
   "execution_count": 3,
   "metadata": {},
   "outputs": [
    {
     "data": {
      "text/html": [
       "<div>\n",
       "<style scoped>\n",
       "    .dataframe tbody tr th:only-of-type {\n",
       "        vertical-align: middle;\n",
       "    }\n",
       "\n",
       "    .dataframe tbody tr th {\n",
       "        vertical-align: top;\n",
       "    }\n",
       "\n",
       "    .dataframe thead th {\n",
       "        text-align: right;\n",
       "    }\n",
       "</style>\n",
       "<table border=\"1\" class=\"dataframe\">\n",
       "  <thead>\n",
       "    <tr style=\"text-align: right;\">\n",
       "      <th></th>\n",
       "      <th>TFAs Ave.(E)</th>\n",
       "      <th>TFAs Ave.(NE)</th>\n",
       "      <th>TTS</th>\n",
       "      <th>p_val</th>\n",
       "      <th>FDR_A375</th>\n",
       "      <th>negLog10_FDR</th>\n",
       "      <th>TFAs Ave.(E).1</th>\n",
       "      <th>TFAs Ave.(NE).1</th>\n",
       "      <th>TTS.1</th>\n",
       "      <th>p_val.1</th>\n",
       "      <th>FDR_HT29</th>\n",
       "      <th>negLog10_FDR.1</th>\n",
       "    </tr>\n",
       "  </thead>\n",
       "  <tbody>\n",
       "    <tr>\n",
       "      <td>AATF</td>\n",
       "      <td>-0.189</td>\n",
       "      <td>0.057</td>\n",
       "      <td>-2.050</td>\n",
       "      <td>4.171000e-02</td>\n",
       "      <td>6.723000e-02</td>\n",
       "      <td>1.172</td>\n",
       "      <td>-1.089</td>\n",
       "      <td>-0.174</td>\n",
       "      <td>-5.347</td>\n",
       "      <td>6.525000e-07</td>\n",
       "      <td>4.133000e-06</td>\n",
       "      <td>5.384</td>\n",
       "    </tr>\n",
       "    <tr>\n",
       "      <td>ABL1</td>\n",
       "      <td>0.315</td>\n",
       "      <td>0.121</td>\n",
       "      <td>4.972</td>\n",
       "      <td>1.279000e-06</td>\n",
       "      <td>6.366000e-06</td>\n",
       "      <td>5.196</td>\n",
       "      <td>-0.001</td>\n",
       "      <td>-0.034</td>\n",
       "      <td>0.925</td>\n",
       "      <td>3.566000e-01</td>\n",
       "      <td>4.375000e-01</td>\n",
       "      <td>0.359</td>\n",
       "    </tr>\n",
       "    <tr>\n",
       "      <td>AES</td>\n",
       "      <td>0.554</td>\n",
       "      <td>0.118</td>\n",
       "      <td>4.331</td>\n",
       "      <td>2.009000e-05</td>\n",
       "      <td>7.323000e-05</td>\n",
       "      <td>4.135</td>\n",
       "      <td>0.066</td>\n",
       "      <td>-0.067</td>\n",
       "      <td>1.119</td>\n",
       "      <td>2.649000e-01</td>\n",
       "      <td>3.397000e-01</td>\n",
       "      <td>0.469</td>\n",
       "    </tr>\n",
       "    <tr>\n",
       "      <td>AHR</td>\n",
       "      <td>-0.379</td>\n",
       "      <td>-0.008</td>\n",
       "      <td>-5.944</td>\n",
       "      <td>1.116000e-08</td>\n",
       "      <td>8.138000e-08</td>\n",
       "      <td>7.089</td>\n",
       "      <td>-0.358</td>\n",
       "      <td>0.070</td>\n",
       "      <td>-5.710</td>\n",
       "      <td>8.902000e-08</td>\n",
       "      <td>7.156000e-07</td>\n",
       "      <td>6.145</td>\n",
       "    </tr>\n",
       "    <tr>\n",
       "      <td>AIP</td>\n",
       "      <td>-0.108</td>\n",
       "      <td>-0.148</td>\n",
       "      <td>0.631</td>\n",
       "      <td>5.282000e-01</td>\n",
       "      <td>5.904000e-01</td>\n",
       "      <td>0.229</td>\n",
       "      <td>-0.053</td>\n",
       "      <td>0.077</td>\n",
       "      <td>-1.725</td>\n",
       "      <td>8.686000e-02</td>\n",
       "      <td>1.332000e-01</td>\n",
       "      <td>0.876</td>\n",
       "    </tr>\n",
       "  </tbody>\n",
       "</table>\n",
       "</div>"
      ],
      "text/plain": [
       "      TFAs Ave.(E)  TFAs Ave.(NE)    TTS         p_val      FDR_A375  \\\n",
       "AATF        -0.189          0.057 -2.050  4.171000e-02  6.723000e-02   \n",
       "ABL1         0.315          0.121  4.972  1.279000e-06  6.366000e-06   \n",
       "AES          0.554          0.118  4.331  2.009000e-05  7.323000e-05   \n",
       "AHR         -0.379         -0.008 -5.944  1.116000e-08  8.138000e-08   \n",
       "AIP         -0.108         -0.148  0.631  5.282000e-01  5.904000e-01   \n",
       "\n",
       "      negLog10_FDR  TFAs Ave.(E).1  TFAs Ave.(NE).1  TTS.1       p_val.1  \\\n",
       "AATF         1.172          -1.089           -0.174 -5.347  6.525000e-07   \n",
       "ABL1         5.196          -0.001           -0.034  0.925  3.566000e-01   \n",
       "AES          4.135           0.066           -0.067  1.119  2.649000e-01   \n",
       "AHR          7.089          -0.358            0.070 -5.710  8.902000e-08   \n",
       "AIP          0.229          -0.053            0.077 -1.725  8.686000e-02   \n",
       "\n",
       "          FDR_HT29  negLog10_FDR.1  \n",
       "AATF  4.133000e-06           5.384  \n",
       "ABL1  4.375000e-01           0.359  \n",
       "AES   3.397000e-01           0.469  \n",
       "AHR   7.156000e-07           6.145  \n",
       "AIP   1.332000e-01           0.876  "
      ]
     },
     "execution_count": 3,
     "metadata": {},
     "output_type": "execute_result"
    },
    {
     "data": {
      "text/html": [
       "<div>\n",
       "<style scoped>\n",
       "    .dataframe tbody tr th:only-of-type {\n",
       "        vertical-align: middle;\n",
       "    }\n",
       "\n",
       "    .dataframe tbody tr th {\n",
       "        vertical-align: top;\n",
       "    }\n",
       "\n",
       "    .dataframe thead th {\n",
       "        text-align: right;\n",
       "    }\n",
       "</style>\n",
       "<table border=\"1\" class=\"dataframe\">\n",
       "  <thead>\n",
       "    <tr style=\"text-align: right;\">\n",
       "      <th></th>\n",
       "      <th>TFAs Ave.(E)</th>\n",
       "      <th>TFAs Ave.(NE)</th>\n",
       "      <th>TTS</th>\n",
       "      <th>FDR_A375</th>\n",
       "      <th>TFAs Ave.(E).1</th>\n",
       "      <th>TFAs Ave.(NE).1</th>\n",
       "      <th>TTS.1</th>\n",
       "      <th>FDR_HT29</th>\n",
       "    </tr>\n",
       "  </thead>\n",
       "  <tbody>\n",
       "    <tr>\n",
       "      <td>ATF5</td>\n",
       "      <td>-0.275</td>\n",
       "      <td>0.008</td>\n",
       "      <td>-5.198</td>\n",
       "      <td>0.000002</td>\n",
       "      <td>0.261</td>\n",
       "      <td>0.108</td>\n",
       "      <td>2.360</td>\n",
       "      <td>0.035940</td>\n",
       "    </tr>\n",
       "    <tr>\n",
       "      <td>PAX2</td>\n",
       "      <td>-0.450</td>\n",
       "      <td>-0.009</td>\n",
       "      <td>-3.491</td>\n",
       "      <td>0.001586</td>\n",
       "      <td>0.667</td>\n",
       "      <td>0.028</td>\n",
       "      <td>4.559</td>\n",
       "      <td>0.000065</td>\n",
       "    </tr>\n",
       "    <tr>\n",
       "      <td>TLX1</td>\n",
       "      <td>0.436</td>\n",
       "      <td>0.163</td>\n",
       "      <td>2.505</td>\n",
       "      <td>0.024830</td>\n",
       "      <td>-1.048</td>\n",
       "      <td>-0.235</td>\n",
       "      <td>-5.157</td>\n",
       "      <td>0.000009</td>\n",
       "    </tr>\n",
       "    <tr>\n",
       "      <td>NF1</td>\n",
       "      <td>0.409</td>\n",
       "      <td>0.160</td>\n",
       "      <td>3.182</td>\n",
       "      <td>0.004035</td>\n",
       "      <td>-0.469</td>\n",
       "      <td>0.018</td>\n",
       "      <td>-4.860</td>\n",
       "      <td>0.000023</td>\n",
       "    </tr>\n",
       "    <tr>\n",
       "      <td>ZNF148</td>\n",
       "      <td>0.219</td>\n",
       "      <td>-0.029</td>\n",
       "      <td>4.240</td>\n",
       "      <td>0.000117</td>\n",
       "      <td>-0.594</td>\n",
       "      <td>-0.154</td>\n",
       "      <td>-4.768</td>\n",
       "      <td>0.000028</td>\n",
       "    </tr>\n",
       "  </tbody>\n",
       "</table>\n",
       "</div>"
      ],
      "text/plain": [
       "        TFAs Ave.(E)  TFAs Ave.(NE)    TTS  FDR_A375  TFAs Ave.(E).1  \\\n",
       "ATF5          -0.275          0.008 -5.198  0.000002           0.261   \n",
       "PAX2          -0.450         -0.009 -3.491  0.001586           0.667   \n",
       "TLX1           0.436          0.163  2.505  0.024830          -1.048   \n",
       "NF1            0.409          0.160  3.182  0.004035          -0.469   \n",
       "ZNF148         0.219         -0.029  4.240  0.000117          -0.594   \n",
       "\n",
       "        TFAs Ave.(NE).1  TTS.1  FDR_HT29  \n",
       "ATF5              0.108  2.360  0.035940  \n",
       "PAX2              0.028  4.559  0.000065  \n",
       "TLX1             -0.235 -5.157  0.000009  \n",
       "NF1               0.018 -4.860  0.000023  \n",
       "ZNF148           -0.154 -4.768  0.000028  "
      ]
     },
     "execution_count": 3,
     "metadata": {},
     "output_type": "execute_result"
    }
   ],
   "source": [
    "TTS_df=pd.read_table('result/TTscore/TTS_both.txt', sep='\\t',index_col=0)\n",
    "TTS_df.head()\n",
    "df1=TTS_df.loc[(TTS_df['TTS']*TTS_df['TTS.1']<0)&(np.abs(TTS_df['TTS']-TTS_df['TTS.1'])>7)]\n",
    "df1=df1.sort_values(by='TTS')\n",
    "\n",
    "df1=df1.drop(['RUVBL1','YEATS4'])\n",
    "df1=df1.drop(['p_val','negLog10_FDR','p_val.1','negLog10_FDR.1'],axis=1)\n",
    "df1\n",
    "df1.to_csv('result/Disc/conflicting_TTs.txt', sep='\\t')"
   ]
  }
 ],
 "metadata": {
  "kernelspec": {
   "display_name": "Python 3",
   "language": "python",
   "name": "python3"
  },
  "language_info": {
   "codemirror_mode": {
    "name": "ipython",
    "version": 3
   },
   "file_extension": ".py",
   "mimetype": "text/x-python",
   "name": "python",
   "nbconvert_exporter": "python",
   "pygments_lexer": "ipython3",
   "version": "3.7.4"
  }
 },
 "nbformat": 4,
 "nbformat_minor": 2
}
