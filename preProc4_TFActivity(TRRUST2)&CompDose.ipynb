{
 "cells": [
  {
   "cell_type": "code",
   "execution_count": 1,
   "metadata": {},
   "outputs": [
    {
     "data": {
      "text/html": [
       "<style>.container { width:95% !important; }</style>"
      ],
      "text/plain": [
       "<IPython.core.display.HTML object>"
      ]
     },
     "metadata": {},
     "output_type": "display_data"
    },
    {
     "data": {
      "text/html": [
       "<style>.input_area pre {font-family: Consolas; font-size: 16pt; line-height: 140%;}</style>"
      ],
      "text/plain": [
       "<IPython.core.display.HTML object>"
      ]
     },
     "metadata": {},
     "output_type": "display_data"
    },
    {
     "data": {
      "text/html": [
       "<style>.output_area pre {font-family: Consolas; font-size: 16pt; line-height: 140%;}</style>"
      ],
      "text/plain": [
       "<IPython.core.display.HTML object>"
      ]
     },
     "metadata": {},
     "output_type": "display_data"
    }
   ],
   "source": [
    "from IPython.core.display import display, HTML\n",
    "display(HTML(\"<style>.container { width:95% !important; }</style>\"))\n",
    "display(HTML(\"<style>.input_area pre {font-family: Consolas; font-size: 16pt; line-height: 140%;}</style>\"))\n",
    "display(HTML(\"<style>.output_area pre {font-family: Consolas; font-size: 16pt; line-height: 140%;}</style>\"))\n",
    "\n",
    "from IPython.core.interactiveshell import InteractiveShell\n",
    "InteractiveShell.ast_node_interactivity = \"all\"\n",
    "\n",
    "import pandas as pd\n",
    "import numpy as np\n",
    "import os\n",
    "import glob\n",
    "import datetime\n",
    "import shutil\n",
    "from collections import defaultdict, Counter\n",
    "from copy import deepcopy\n",
    "import networkx as nx\n",
    "import matplotlib.pyplot as plt\n",
    "from matplotlib import font_manager, rc\n",
    "font_name = font_manager.FontProperties(fname=\"c:/Windows/Fonts/malgun.ttf\").get_name()\n",
    "plt.rc('font', family=font_name)"
   ]
  },
  {
   "cell_type": "markdown",
   "metadata": {},
   "source": [
    "# 각 gene FC로 부터 TF activity 구하기 (brd2cid도 수행)"
   ]
  },
  {
   "cell_type": "code",
   "execution_count": 2,
   "metadata": {
    "scrolled": false
   },
   "outputs": [
    {
     "name": "stdout",
     "output_type": "stream",
     "text": [
      "A375 all\n",
      "A549 all\n",
      "BT20 all\n",
      "HS578T all\n",
      "HT29 all\n",
      "LNCAP all\n",
      "MCF7 all\n",
      "MDAMB231 all\n",
      "PC3 all\n"
     ]
    }
   ],
   "source": [
    "def get_BRD2CID_dic():\n",
    "    # BRD to LSM mapping\n",
    "    BRD2LSM_df=pd.read_table('./data/LINCS/BRD2LSM.txt',index_col='SM_Center_Canonical_ID', sep='\\t',engine='python')\n",
    "    BRD2LSM_df=BRD2LSM_df[BRD2LSM_df.index.str.startswith('BRD')]\n",
    "    BRD2LSM_dic=BRD2LSM_df['SM_LINCS_ID'].to_dict()\n",
    "    \n",
    "    # LSM to CID mapping\n",
    "    LSM2CID_df=pd.read_table('./data/LINCS/LSM2Cid.txt', index_col='SM_LINCS_ID', sep='\\t',engine='python')\n",
    "    LSM2CID_df=LSM2CID_df[~LSM2CID_df['SM_PubChem_CID'].isna()]\n",
    "    LSM2CID_df['SM_PubChem_CID']=LSM2CID_df['SM_PubChem_CID'].astype(int)\n",
    "    LSM2CID_dic=LSM2CID_df['SM_PubChem_CID'].to_dict()\n",
    "    \n",
    "    BRD2CID_dic={}\n",
    "    for key,value in BRD2LSM_dic.items():\n",
    "        if value not in LSM2CID_dic.keys():\n",
    "            continue\n",
    "        BRD2CID_dic[key]=LSM2CID_dic[value]\n",
    "    \n",
    "    return BRD2CID_dic\n",
    "\n",
    "def get_TF_targets_directed_only(file_name, out_file_name, trust_dic):\n",
    "    gene_FC_df=pd.read_table(file_name, sep='\\t',engine='python',index_col=0)\n",
    "\n",
    "    TF_activity_dic=defaultdict(int)\n",
    "    regGeneNum=defaultdict(int)\n",
    "    \n",
    "    for (TF,typ),regGene_list in trust_dic.items():\n",
    "        if typ not in ['Activation','Repression']:\n",
    "            continue\n",
    "\n",
    "        common_gene_list=list(set(regGene_list)&set(gene_FC_df.columns))\n",
    "        \n",
    "        ## drop TFs targeting no genes \n",
    "        if len(common_gene_list)==0:\n",
    "            continue\n",
    "            \n",
    "        regGeneNum[TF]+=len(common_gene_list)\n",
    "        \n",
    "        gene_FC_for_TF_df=gene_FC_df[common_gene_list]\n",
    "        each_TF_FC_ds=gene_FC_for_TF_df.apply(sum, axis=1)\n",
    "        \n",
    "        if typ=='Repression':\n",
    "            each_TF_FC_ds=each_TF_FC_ds*(-1)\n",
    "\n",
    "        TF_activity_dic[TF]+=each_TF_FC_ds\n",
    "    \n",
    "    TF_activity_df=pd.DataFrame(TF_activity_dic)\n",
    "    \n",
    "    for col in TF_activity_df.columns:\n",
    "        TF_activity_df[col]=TF_activity_df[col]/regGeneNum[col]\n",
    "        \n",
    "    TF_activity_df.reset_index(inplace=True)\n",
    "    comp_dose_ds=TF_activity_df['index'].map(lambda x: x.split('|'))\n",
    "    TF_activity_df[['compound','dose']]=pd.DataFrame(comp_dose_ds.values.tolist(), index=TF_activity_df.index)\n",
    "    TF_activity_df.drop(['index'], axis=1, inplace=True)\n",
    "    TF_activity_df['compound']=TF_activity_df['compound'].map(BRD2CID)\n",
    "    TF_activity_df.to_csv(out_file_name,sep='\\t',index=False)\n",
    "\n",
    "# main\n",
    "BRD2CID=get_BRD2CID_dic()\n",
    "\n",
    "trust_df=pd.read_table('data/TRRUST2_TF/trrust2_TF_target.tsv', sep='\\t',engine='python', header=None, usecols=[0,1,2])\n",
    "trust_df.columns=['TF','target','type']\n",
    "trust_dic=trust_df.groupby(['TF','type'])['target'].apply(list).to_dict()\n",
    "\n",
    "file_names=glob.glob('result/foldchange/*_all.txt')\n",
    "for file_name in file_names:\n",
    "    if 'JURKAT' in file_name:\n",
    "        continue\n",
    "    cell, mode = file_name.replace('.txt','').split('_')[-2:]\n",
    "    print(cell,mode)\n",
    "    out_file_name = 'result/TF_activity/comp_dose/TFA_CompDose_{}_{}.txt'.format(cell,mode)\n",
    "    get_TF_targets_directed_only(file_name, out_file_name, trust_dic)"
   ]
  }
 ],
 "metadata": {
  "kernelspec": {
   "display_name": "Python 3",
   "language": "python",
   "name": "python3"
  },
  "language_info": {
   "codemirror_mode": {
    "name": "ipython",
    "version": 3
   },
   "file_extension": ".py",
   "mimetype": "text/x-python",
   "name": "python",
   "nbconvert_exporter": "python",
   "pygments_lexer": "ipython3",
   "version": "3.7.4"
  }
 },
 "nbformat": 4,
 "nbformat_minor": 2
}
