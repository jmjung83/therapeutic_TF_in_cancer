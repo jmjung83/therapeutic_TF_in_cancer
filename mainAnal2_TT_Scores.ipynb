{
 "cells": [
  {
   "cell_type": "code",
   "execution_count": 7,
   "metadata": {},
   "outputs": [
    {
     "name": "stdout",
     "output_type": "stream",
     "text": [
      "Once deleted, variables cannot be recovered. Proceed (y/[n])? y\n"
     ]
    }
   ],
   "source": [
    "%reset"
   ]
  },
  {
   "cell_type": "code",
   "execution_count": 2,
   "metadata": {},
   "outputs": [
    {
     "data": {
      "text/html": [
       "<style>.container { width:95% !important; }</style>"
      ],
      "text/plain": [
       "<IPython.core.display.HTML object>"
      ]
     },
     "metadata": {},
     "output_type": "display_data"
    },
    {
     "data": {
      "text/html": [
       "<style>.input_area pre {font-family: Consolas; font-size: 16pt; line-height: 140%;}</style>"
      ],
      "text/plain": [
       "<IPython.core.display.HTML object>"
      ]
     },
     "metadata": {},
     "output_type": "display_data"
    },
    {
     "data": {
      "text/html": [
       "<style>.output_area pre {font-family: Consolas; font-size: 16pt; line-height: 140%;}</style>"
      ],
      "text/plain": [
       "<IPython.core.display.HTML object>"
      ]
     },
     "metadata": {},
     "output_type": "display_data"
    }
   ],
   "source": [
    "from IPython.core.display import display, HTML\n",
    "display(HTML(\"<style>.container { width:95% !important; }</style>\"))\n",
    "display(HTML(\"<style>.input_area pre {font-family: Consolas; font-size: 16pt; line-height: 140%;}</style>\"))\n",
    "display(HTML(\"<style>.output_area pre {font-family: Consolas; font-size: 16pt; line-height: 140%;}</style>\"))\n",
    "\n",
    "from IPython.core.interactiveshell import InteractiveShell\n",
    "InteractiveShell.ast_node_interactivity = \"all\"\n",
    "\n",
    "from sklearn import linear_model, datasets\n",
    "import sklearn.metrics as metric\n",
    "from sklearn.model_selection import KFold\n",
    "import pandas as pd\n",
    "import numpy as np\n",
    "import warnings\n",
    "import os\n",
    "import glob\n",
    "import datetime\n",
    "import shutil\n",
    "from collections import defaultdict, Counter\n",
    "import statsmodels.stats.multitest as multest\n",
    "from copy import deepcopy\n",
    "import networkx as nx\n",
    "import matplotlib.pyplot as plt\n",
    "from matplotlib import font_manager, rc\n",
    "import scipy.stats\n",
    "font_name = font_manager.FontProperties(fname=\"c:/Windows/Fonts/malgun.ttf\").get_name()\n",
    "plt.rc('font', family=font_name)\n",
    "from collections import Counter\n",
    "import sklearn.metrics"
   ]
  },
  {
   "cell_type": "code",
   "execution_count": 3,
   "metadata": {
    "scrolled": false
   },
   "outputs": [
    {
     "name": "stdout",
     "output_type": "stream",
     "text": [
      "##### A375\n",
      "627\n",
      "##### HT29\n",
      "627\n"
     ]
    }
   ],
   "source": [
    "def get_sigTF_ttest(file_names):\n",
    "    TF_score_integrated_df = pd.DataFrame()\n",
    "    for file_name in file_names:\n",
    "        cell=file_name.split(\"\\\\\")[-1].split('_')[2]\n",
    "        print('#####',cell)\n",
    "        \n",
    "        anal_data=pd.read_table(file_name, sep='\\t',engine='python')\n",
    "        therp_TF_score={}\n",
    "        for col in anal_data.columns:\n",
    "            if col=='effect':\n",
    "                continue\n",
    "\n",
    "            pos_set=anal_data.loc[anal_data['effect']==1,col]\n",
    "            neg_set=anal_data.loc[anal_data['effect']==0,col]\n",
    "            \n",
    "            TTS, p_val=scipy.stats.ttest_ind(pos_set, neg_set, equal_var=False)\n",
    "\n",
    "            therp_TF_score[col]= [pos_set.mean(), neg_set.mean(), TTS, p_val]\n",
    "\n",
    "        TF_score_df=pd.DataFrame(therp_TF_score)\n",
    "        TF_score_df=TF_score_df.T\n",
    "        TF_score_df.columns=['TFAs Ave.(E)','TFAs Ave.(NE)', 'TTS','p_val'] ## TTS strong positive:TSG, strong negative:EG\n",
    "        TF_score_df=TF_score_df.sort_values(by='TTS', ascending=False)\n",
    "        \n",
    "        TF_score_df['FDR'] = multest.fdrcorrection(TF_score_df['p_val'])[1]\n",
    "        TF_score_df['negLog10_FDR'] = TF_score_df['FDR'].map(lambda x: -np.log10(x))\n",
    "        \n",
    "        ## save TF therapeutics score for each cell\n",
    "        TF_score_df.to_csv('result/TTscore/TTS_{}.txt'.format(cell),sep='\\t')\n",
    "        print(len(TF_score_df))\n",
    "\n",
    "        ## integration nine cells\n",
    "        for col in ['TFAs Ave.(E)','TFAs Ave.(NE)','TTS','negLog10_FDR']:\n",
    "            TF_score_df[col] = TF_score_df[col].map(lambda x: '{:.3f}'.format(x))\n",
    "        \n",
    "        for col in ['p_val','FDR']:\n",
    "            TF_score_df[col] = TF_score_df[col].map(lambda x: '{:.3e}'.format(x))\n",
    "        \n",
    "        TF_score_df.rename(columns={'FDR':'FDR_{}'.format(cell)}, inplace=True)\n",
    "        \n",
    "        TF_score_integrated_df=pd.concat([TF_score_integrated_df, TF_score_df], axis=1, sort=True)\n",
    "        \n",
    "    TF_score_integrated_df.to_csv('result/TTscore/TTS_both.txt',sep='\\t')\n",
    "    \n",
    "file_names=glob.glob('result/TF_activity/effect/*.txt')  \n",
    "get_sigTF_ttest(file_names)"
   ]
  }
 ],
 "metadata": {
  "kernelspec": {
   "display_name": "Python 3",
   "language": "python",
   "name": "python3"
  },
  "language_info": {
   "codemirror_mode": {
    "name": "ipython",
    "version": 3
   },
   "file_extension": ".py",
   "mimetype": "text/x-python",
   "name": "python",
   "nbconvert_exporter": "python",
   "pygments_lexer": "ipython3",
   "version": "3.7.4"
  }
 },
 "nbformat": 4,
 "nbformat_minor": 2
}
