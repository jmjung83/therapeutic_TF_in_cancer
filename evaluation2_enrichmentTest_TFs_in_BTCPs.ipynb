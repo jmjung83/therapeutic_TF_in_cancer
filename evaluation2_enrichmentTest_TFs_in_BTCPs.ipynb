{
 "cells": [
  {
   "cell_type": "code",
   "execution_count": 1,
   "metadata": {},
   "outputs": [
    {
     "name": "stdout",
     "output_type": "stream",
     "text": [
      "Once deleted, variables cannot be recovered. Proceed (y/[n])? y\n"
     ]
    }
   ],
   "source": [
    "%reset"
   ]
  },
  {
   "cell_type": "code",
   "execution_count": 1,
   "metadata": {},
   "outputs": [
    {
     "data": {
      "text/html": [
       "<style>.container { width:95% !important; }</style>"
      ],
      "text/plain": [
       "<IPython.core.display.HTML object>"
      ]
     },
     "metadata": {},
     "output_type": "display_data"
    },
    {
     "data": {
      "text/html": [
       "<style>.input_area pre {font-family: Consolas; font-size: 16pt; line-height: 140%;}</style>"
      ],
      "text/plain": [
       "<IPython.core.display.HTML object>"
      ]
     },
     "metadata": {},
     "output_type": "display_data"
    },
    {
     "data": {
      "text/html": [
       "<style>.output_area pre {font-family: Consolas; font-size: 16pt; line-height: 140%;}</style>"
      ],
      "text/plain": [
       "<IPython.core.display.HTML object>"
      ]
     },
     "metadata": {},
     "output_type": "display_data"
    }
   ],
   "source": [
    "from IPython.core.display import display, HTML\n",
    "display(HTML(\"<style>.container { width:95% !important; }</style>\"))\n",
    "display(HTML(\"<style>.input_area pre {font-family: Consolas; font-size: 16pt; line-height: 140%;}</style>\"))\n",
    "display(HTML(\"<style>.output_area pre {font-family: Consolas; font-size: 16pt; line-height: 140%;}</style>\"))\n",
    "\n",
    "from IPython.core.interactiveshell import InteractiveShell\n",
    "InteractiveShell.ast_node_interactivity = \"all\"\n",
    "\n",
    "import pandas as pd\n",
    "import numpy as np\n",
    "import os\n",
    "import glob\n",
    "import datetime\n",
    "import shutil\n",
    "from collections import defaultdict, Counter\n",
    "from copy import deepcopy\n",
    "import networkx as nx\n",
    "import matplotlib.pyplot as plt\n",
    "from matplotlib import font_manager, rc\n",
    "font_name = font_manager.FontProperties(fname=\"c:/Windows/Fonts/malgun.ttf\").get_name()\n",
    "plt.rc('font', family=font_name)\n",
    "plt.rcParams['axes.unicode_minus'] = False\n",
    "\n",
    "import matplotlib.patches as mpatches\n",
    "import math\n",
    "\n",
    "import matplotlib as mpl\n",
    "mpl.rcParams['figure.dpi'] = 300\n",
    "\n",
    "import seaborn as sns\n",
    "import gseapy"
   ]
  },
  {
   "cell_type": "markdown",
   "metadata": {},
   "source": [
    "# enriched process"
   ]
  },
  {
   "cell_type": "code",
   "execution_count": 4,
   "metadata": {},
   "outputs": [
    {
     "name": "stdout",
     "output_type": "stream",
     "text": [
      "['IFI16', 'POU2F2', 'TFDP1', 'E2F6', 'TCF7L2', 'HOXA1', 'TLX1', 'ZBTB7A', 'E2F7', 'TCF4', 'ZNF300', 'MYBL2', 'POLR1A', 'FOXO3', 'E2F4', 'MXI1', 'E2F8', 'CEBPE', 'AATF', 'ENO1', 'STAT4', 'KLF5']\n",
      "22\n"
     ]
    },
    {
     "name": "stderr",
     "output_type": "stream",
     "text": [
      "2019-12-26 13:30:16,501 Warning: No enrich terms using library KEGG_2019_Human when cutoff = 0.05\n"
     ]
    },
    {
     "data": {
      "text/plain": [
       "<gseapy.enrichr.Enrichr at 0x212e56d65c8>"
      ]
     },
     "execution_count": 4,
     "metadata": {},
     "output_type": "execute_result"
    },
    {
     "data": {
      "text/plain": [
       "<gseapy.enrichr.Enrichr at 0x212e56d62c8>"
      ]
     },
     "execution_count": 4,
     "metadata": {},
     "output_type": "execute_result"
    }
   ],
   "source": [
    "def get_SigTCP():\n",
    "    sigTTP=pd.read_table('result/sig_TT&TCP/sig_TCP.txt', sep='\\t',index_col=0,header=None, engine='python')\n",
    "    \n",
    "    TF_list=[]\n",
    "    \n",
    "    pos_sigTTP=sigTTP.loc['both(pos)'].loc[2]\n",
    "    for TF_pair in pos_sigTTP.split(','):\n",
    "        TF_list+=TF_pair.split('|')\n",
    "        \n",
    "    neg_sigTTP=sigTTP.loc['both(neg)'].loc[2]\n",
    "    for TF_pair in neg_sigTTP.split(','):\n",
    "        TF_list+=TF_pair.split('|')\n",
    "        \n",
    "    return list(set(TF_list))\n",
    "\n",
    "TF_list=get_SigTCP()\n",
    "print(TF_list)\n",
    "print(len(TF_list))\n",
    "\n",
    "gseapy.enrichr(gene_list=TF_list, gene_sets='KEGG_2019_Human',            outdir='result/Eval/BTCP_enrichment/')\n",
    "gseapy.enrichr(gene_list=TF_list, gene_sets='GO_Biological_Process_2018', outdir='result/Eval/BTCP_enrichment/')"
   ]
  }
 ],
 "metadata": {
  "kernelspec": {
   "display_name": "Python 3",
   "language": "python",
   "name": "python3"
  },
  "language_info": {
   "codemirror_mode": {
    "name": "ipython",
    "version": 3
   },
   "file_extension": ".py",
   "mimetype": "text/x-python",
   "name": "python",
   "nbconvert_exporter": "python",
   "pygments_lexer": "ipython3",
   "version": "3.7.4"
  }
 },
 "nbformat": 4,
 "nbformat_minor": 2
}
